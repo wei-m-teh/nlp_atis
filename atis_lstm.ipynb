{
 "cells": [
  {
   "cell_type": "code",
   "execution_count": 2,
   "metadata": {},
   "outputs": [],
   "source": [
    "import pickle\n",
    "import os\n",
    "import numpy as np\n",
    "import pandas as pd\n",
    "import scikitplot as skplt\n",
    "\n",
    "DATA_DIR=\"./input/atis\""
   ]
  },
  {
   "cell_type": "code",
   "execution_count": 3,
   "metadata": {},
   "outputs": [],
   "source": [
    "def load_ds(fname='atis.train.pkl'):\n",
    "    with open(fname, 'rb') as stream:\n",
    "        ds,dicts = pickle.load(stream)\n",
    "    print('Done  loading: ', fname)\n",
    "    print('      samples: {:4d}'.format(len(ds['query'])))\n",
    "    print('   vocab_size: {:4d}'.format(len(dicts['token_ids'])))\n",
    "    print('   slot count: {:4d}'.format(len(dicts['slot_ids'])))\n",
    "    print(' intent count: {:4d}'.format(len(dicts['intent_ids'])))\n",
    "    \n",
    "    return ds,dicts"
   ]
  },
  {
   "cell_type": "code",
   "execution_count": 4,
   "metadata": {},
   "outputs": [],
   "source": [
    "def load_atis(filename, add_start_end_token=False, verbose=True):\n",
    "    train_ds, dicts = load_ds(os.path.join(DATA_DIR,filename))\n",
    "    t2i, s2i, in2i = map(dicts.get, ['token_ids', 'slot_ids','intent_ids'])\n",
    "    i2t, i2s, i2in = map(lambda d: {d[k]:k for k in d.keys()}, [t2i,s2i,in2i])\n",
    "    query, slots, intent =  map(train_ds.get, ['query', 'slot_labels', 'intent_labels'])\n",
    "    input_tensor = []\n",
    "    target_tensor = []\n",
    "    query_data = []\n",
    "    intent_data = []\n",
    "    slot_data = []\n",
    "    to_show = np.random.randint(0, len(query)-1, 5)\n",
    "    for i in range(len(query)):\n",
    "        input_tensor.append(query[i])\n",
    "        slot_text = []\n",
    "        slot_vector = []\n",
    "        for j in range(len(query[i])):\n",
    "            slot_text.append(i2s[slots[i][j]])\n",
    "            slot_vector.append(slots[i][j])\n",
    "        target_tensor.append(slot_vector)\n",
    "        q = ' '.join(map(i2t.get, query[i]))\n",
    "        query_data.append(q.replace('BOS', '').replace('EOS',''))\n",
    "        intent_data.append(i2in[intent[i][0]])\n",
    "        slot = ' '.join(slot_text)\n",
    "        slot_data.append(slot[1:-1])\n",
    "        if i in to_show and verbose:\n",
    "          print('Query text:', q)\n",
    "          print('Query vector: ', query[i])\n",
    "          print('Intent label: ', i2in[intent[i][0]])\n",
    "          print('Slot text: ', slot)\n",
    "          print('Slot vector: ', slot_vector)\n",
    "          print('*'*74)\n",
    "\n",
    "    query_data = np.array(query_data)\n",
    "    intent_data = np.array(intent_data)\n",
    "    slot_data = np.array(slot_data)\n",
    "    intent_data_label = np.array(intent).flatten()\n",
    "    return t2i, s2i, in2i, i2t, i2s, i2in, input_tensor, target_tensor, \\\n",
    "            query_data, intent_data, intent_data_label, slot_data"
   ]
  },
  {
   "cell_type": "code",
   "execution_count": 5,
   "metadata": {},
   "outputs": [
    {
     "name": "stdout",
     "output_type": "stream",
     "text": [
      "Done  loading:  ./input/atis/atis.train.pkl\n",
      "      samples: 4978\n",
      "   vocab_size:  943\n",
      "   slot count:  129\n",
      " intent count:   26\n",
      "Query text: BOS list all united flights from boston to san francisco EOS\n",
      "Query vector:  [178 549 207 887 429 444 266 851 739 440 179]\n",
      "Intent label:  flight\n",
      "Slot text:  O O O B-airline_name O O B-fromloc.city_name O B-toloc.city_name I-toloc.city_name O\n",
      "Slot vector:  [128, 128, 128, 2, 128, 128, 48, 128, 78, 125, 128]\n",
      "**************************************************************************\n",
      "Query text: BOS what flights leave pittsburgh july fifth after 7 pm and arrive in san francisco EOS\n",
      "Query vector:  [178 916 429 537 682 507 421 190 139 689 215 236 482 739 440 179]\n",
      "Intent label:  flight\n",
      "Slot text:  O O O O B-fromloc.city_name B-depart_date.month_name B-depart_date.day_number B-depart_time.time_relative B-depart_time.time I-depart_time.time O O O B-toloc.city_name I-toloc.city_name O\n",
      "Slot vector:  [128, 128, 128, 128, 48, 28, 27, 36, 35, 100, 128, 128, 128, 78, 125, 128]\n",
      "**************************************************************************\n",
      "Query text: BOS does united airlines have flights between boston and denver EOS\n",
      "Query vector:  [178 376 887 200 463 429 259 266 215 351 179]\n",
      "Intent label:  flight\n",
      "Slot text:  O O B-airline_name I-airline_name O O O B-fromloc.city_name O B-toloc.city_name O\n",
      "Slot vector:  [128, 128, 2, 83, 128, 128, 128, 48, 128, 78, 128]\n",
      "**************************************************************************\n",
      "Query text: BOS show me the prices of first class tickets on us air round trip from cleveland to miami EOS\n",
      "Query vector:  [178 770 581 827 695 646 425 302 848 654 889 195 730 870 444 304 851 589\n",
      " 179]\n",
      "Intent label:  airfare\n",
      "Slot text:  O O O O O O B-class_type I-class_type O O B-airline_name I-airline_name B-round_trip I-round_trip O B-fromloc.city_name O B-toloc.city_name O\n",
      "Slot vector:  [128, 128, 128, 128, 128, 128, 18, 92, 128, 128, 2, 83, 66, 119, 128, 48, 128, 78, 128]\n",
      "**************************************************************************\n",
      "Query text: BOS is there an american airlines flight in the evening from dallas to san francisco EOS\n",
      "Query vector:  [178 498 831 214 212 200 428 482 827 402 444 339 851 739 440 179]\n",
      "Intent label:  flight\n",
      "Slot text:  O O O O B-airline_name I-airline_name O O O B-depart_time.period_of_day O B-fromloc.city_name O B-toloc.city_name I-toloc.city_name O\n",
      "Slot vector:  [128, 128, 128, 128, 2, 83, 128, 128, 128, 33, 128, 48, 128, 78, 125, 128]\n",
      "**************************************************************************\n",
      "Done  loading:  ./input/atis/atis.test.pkl\n",
      "      samples:  893\n",
      "   vocab_size:  943\n",
      "   slot count:  129\n",
      " intent count:   26\n",
      "Query text: BOS which flights travel from tacoma to san jose EOS\n",
      "Query vector:  [178 920 429 867 444 810 851 739 506 179]\n",
      "Intent label:  flight\n",
      "Slot text:  O O O O O B-fromloc.city_name O B-toloc.city_name I-toloc.city_name O\n",
      "Slot vector:  [128, 128, 128, 128, 128, 48, 128, 78, 125, 128]\n",
      "**************************************************************************\n",
      "Query text: BOS please show ground transportation to milwaukee EOS\n",
      "Query vector:  [178 688 770 457 866 851 595 179]\n",
      "Intent label:  ground_service\n",
      "Slot text:  O O O O O O B-city_name O\n",
      "Slot vector:  [128, 128, 128, 128, 128, 128, 17, 128]\n",
      "**************************************************************************\n",
      "Query text: BOS i need flight information for a flight departing from cleveland to milwaukee wednesday after 6 pm EOS\n",
      "Query vector:  [178 479 617 428 492 435 180 428 353 444 304 851 595 908 190 130 689 179]\n",
      "Intent label:  flight\n",
      "Slot text:  O O O O O O O O O O B-fromloc.city_name O B-toloc.city_name B-depart_date.day_name B-depart_time.time_relative B-depart_time.time I-depart_time.time O\n",
      "Slot vector:  [128, 128, 128, 128, 128, 128, 128, 128, 128, 128, 48, 128, 78, 26, 36, 35, 100, 128]\n",
      "**************************************************************************\n",
      "Query text: BOS list flights from dallas to houston EOS\n",
      "Query vector:  [178 549 429 444 339 851 476 179]\n",
      "Intent label:  flight\n",
      "Slot text:  O O O O B-fromloc.city_name O B-toloc.city_name O\n",
      "Slot vector:  [128, 128, 128, 128, 48, 128, 78, 128]\n",
      "**************************************************************************\n",
      "Query text: BOS list the cheapest fare from charlotte to las vegas EOS\n",
      "Query vector:  [178 549 827 296 414 444 294 851 527 897 179]\n",
      "Intent label:  airfare\n",
      "Slot text:  O O O B-cost_relative O O B-fromloc.city_name O B-toloc.city_name I-toloc.city_name O\n",
      "Slot vector:  [128, 128, 128, 21, 128, 128, 48, 128, 78, 125, 128]\n",
      "**************************************************************************\n"
     ]
    }
   ],
   "source": [
    "# load ATIS training dataset\n",
    "t2i_train, s2i_train, in2i_train, i2t_train, i2s_train, i2in_train, \\\n",
    "input_tensor_train, target_tensor_train, \\\n",
    "query_data_train, intent_data_train, intent_data_label_train, slot_data_train = load_atis('atis.train.pkl')\n",
    "\n",
    "# load ATIS testing dataset\n",
    "t2i_test, s2i_test, in2i_test, i2t_test, i2s_test, i2in_test, \\\n",
    "input_tensor_test, target_tensor_test, \\\n",
    "query_data_test, intent_data_test, intent_data_label_test, slot_data_test = load_atis('atis.test.pkl')"
   ]
  },
  {
   "cell_type": "code",
   "execution_count": 6,
   "metadata": {},
   "outputs": [],
   "source": [
    "pd.set_option('display.max_colwidth', None)\n",
    "df = pd.DataFrame({'query': query_data_train, 'intent': intent_data_train, 'slot filling': slot_data_train})\n",
    "df_small = pd.DataFrame(columns=['query','intent','slot filling'])"
   ]
  },
  {
   "cell_type": "code",
   "execution_count": 7,
   "metadata": {},
   "outputs": [],
   "source": [
    "nb_labels = len(df.intent.unique())"
   ]
  },
  {
   "cell_type": "code",
   "execution_count": 8,
   "metadata": {},
   "outputs": [],
   "source": [
    "j=0\n",
    "for i in df.intent.unique():\n",
    "    df_small.loc[j] = df[df.intent==i].iloc[0]\n",
    "    j = j + 1"
   ]
  },
  {
   "cell_type": "code",
   "execution_count": 9,
   "metadata": {},
   "outputs": [
    {
     "data": {
      "text/html": [
       "<div>\n",
       "<style scoped>\n",
       "    .dataframe tbody tr th:only-of-type {\n",
       "        vertical-align: middle;\n",
       "    }\n",
       "\n",
       "    .dataframe tbody tr th {\n",
       "        vertical-align: top;\n",
       "    }\n",
       "\n",
       "    .dataframe thead th {\n",
       "        text-align: right;\n",
       "    }\n",
       "</style>\n",
       "<table border=\"1\" class=\"dataframe\">\n",
       "  <thead>\n",
       "    <tr style=\"text-align: right;\">\n",
       "      <th></th>\n",
       "      <th>query</th>\n",
       "      <th>intent</th>\n",
       "      <th>slot filling</th>\n",
       "    </tr>\n",
       "  </thead>\n",
       "  <tbody>\n",
       "    <tr>\n",
       "      <th>0</th>\n",
       "      <td>i want to fly from boston at 838 am and arrive in denver at 1110 in the morning</td>\n",
       "      <td>flight</td>\n",
       "      <td>O O O O O B-fromloc.city_name O B-depart_time.time I-depart_time.time O O O B-toloc.city_name O B-arrive_time.time O O B-arrive_time.period_of_day</td>\n",
       "    </tr>\n",
       "    <tr>\n",
       "      <th>1</th>\n",
       "      <td>what is the arrival time in san francisco for the 755 am flight leaving washington</td>\n",
       "      <td>flight_time</td>\n",
       "      <td>O O O B-flight_time I-flight_time O B-fromloc.city_name I-fromloc.city_name O O B-depart_time.time I-depart_time.time O O B-fromloc.city_name</td>\n",
       "    </tr>\n",
       "    <tr>\n",
       "      <th>2</th>\n",
       "      <td>cheapest airfare from tacoma to orlando</td>\n",
       "      <td>airfare</td>\n",
       "      <td>B-cost_relative O O B-fromloc.city_name O B-toloc.city_name</td>\n",
       "    </tr>\n",
       "    <tr>\n",
       "      <th>3</th>\n",
       "      <td>what kind of aircraft is used on a flight from cleveland to dallas</td>\n",
       "      <td>aircraft</td>\n",
       "      <td>O O O O O O O O O O B-fromloc.city_name O B-toloc.city_name</td>\n",
       "    </tr>\n",
       "    <tr>\n",
       "      <th>4</th>\n",
       "      <td>what kind of ground transportation is available in denver</td>\n",
       "      <td>ground_service</td>\n",
       "      <td>O O O O O O O O B-city_name</td>\n",
       "    </tr>\n",
       "    <tr>\n",
       "      <th>5</th>\n",
       "      <td>what 's the airport at orlando</td>\n",
       "      <td>airport</td>\n",
       "      <td>O O O O O B-city_name</td>\n",
       "    </tr>\n",
       "    <tr>\n",
       "      <th>6</th>\n",
       "      <td>which airline serves denver pittsburgh and atlanta</td>\n",
       "      <td>airline</td>\n",
       "      <td>O O O B-fromloc.city_name B-fromloc.city_name O B-fromloc.city_name</td>\n",
       "    </tr>\n",
       "    <tr>\n",
       "      <th>7</th>\n",
       "      <td>how far is it from orlando airport to orlando</td>\n",
       "      <td>distance</td>\n",
       "      <td>O O O O O B-fromloc.airport_name I-fromloc.airport_name O B-toloc.city_name</td>\n",
       "    </tr>\n",
       "    <tr>\n",
       "      <th>8</th>\n",
       "      <td>what is fare code h</td>\n",
       "      <td>abbreviation</td>\n",
       "      <td>O O O O B-fare_basis_code</td>\n",
       "    </tr>\n",
       "    <tr>\n",
       "      <th>9</th>\n",
       "      <td>how much does the limousine service cost within pittsburgh</td>\n",
       "      <td>ground_fare</td>\n",
       "      <td>O O O O B-transport_type O O O B-city_name</td>\n",
       "    </tr>\n",
       "    <tr>\n",
       "      <th>10</th>\n",
       "      <td>please tell me how many nonstop flights there are from boston to atlanta</td>\n",
       "      <td>quantity</td>\n",
       "      <td>O O O O O B-flight_stop O O O O B-fromloc.city_name O B-toloc.city_name</td>\n",
       "    </tr>\n",
       "    <tr>\n",
       "      <th>11</th>\n",
       "      <td>what city is the airport mco in</td>\n",
       "      <td>city</td>\n",
       "      <td>O O O O O B-fromloc.airport_code O</td>\n",
       "    </tr>\n",
       "    <tr>\n",
       "      <th>12</th>\n",
       "      <td>flight numbers from columbus to minneapolis tomorrow</td>\n",
       "      <td>flight_no</td>\n",
       "      <td>O O O B-fromloc.city_name O B-toloc.city_name B-depart_date.today_relative</td>\n",
       "    </tr>\n",
       "    <tr>\n",
       "      <th>13</th>\n",
       "      <td>how many seats in a 100</td>\n",
       "      <td>capacity</td>\n",
       "      <td>O O O O O B-aircraft_code</td>\n",
       "    </tr>\n",
       "    <tr>\n",
       "      <th>14</th>\n",
       "      <td>give me the flights and fares on december twenty seventh from indianapolis to orlando</td>\n",
       "      <td>flight+airfare</td>\n",
       "      <td>O O O O O O O B-depart_date.month_name B-depart_date.day_number I-depart_date.day_number O B-fromloc.city_name O B-toloc.city_name</td>\n",
       "    </tr>\n",
       "    <tr>\n",
       "      <th>15</th>\n",
       "      <td>show me all meals on flights from atlanta to washington</td>\n",
       "      <td>meal</td>\n",
       "      <td>O O O B-meal O O O B-fromloc.city_name O B-toloc.city_name</td>\n",
       "    </tr>\n",
       "    <tr>\n",
       "      <th>16</th>\n",
       "      <td>what are the air restrictions on flights from pittsburgh to atlanta for the airfare of 416 dollars</td>\n",
       "      <td>restriction</td>\n",
       "      <td>O O O O O O O O B-fromloc.city_name O B-toloc.city_name O O O O B-fare_amount I-fare_amount</td>\n",
       "    </tr>\n",
       "    <tr>\n",
       "      <th>17</th>\n",
       "      <td>airline and flight number from columbus to minneapolis</td>\n",
       "      <td>airline+flight_no</td>\n",
       "      <td>O O O O O B-fromloc.city_name O B-toloc.city_name</td>\n",
       "    </tr>\n",
       "    <tr>\n",
       "      <th>18</th>\n",
       "      <td>what ground transportation is available from the pittsburgh airport to downtown and how much does it cost</td>\n",
       "      <td>ground_service+ground_fare</td>\n",
       "      <td>O O O O O O O B-fromloc.airport_name I-fromloc.airport_name O O O O O O O O</td>\n",
       "    </tr>\n",
       "    <tr>\n",
       "      <th>19</th>\n",
       "      <td>show me the costs and times for flights from san francisco to atlanta</td>\n",
       "      <td>airfare+flight_time</td>\n",
       "      <td>O O O O O B-flight_time O O O B-fromloc.city_name I-fromloc.city_name O B-toloc.city_name</td>\n",
       "    </tr>\n",
       "    <tr>\n",
       "      <th>20</th>\n",
       "      <td>show me the cheapest fare in the database</td>\n",
       "      <td>cheapest</td>\n",
       "      <td>O O O B-cost_relative O O O O</td>\n",
       "    </tr>\n",
       "    <tr>\n",
       "      <th>21</th>\n",
       "      <td>i want to fly from detroit to st. petersburg on northwest airlines and leave around 9 am tell me what aircraft are used by this flight and tell me the flight number</td>\n",
       "      <td>aircraft+flight+flight_no</td>\n",
       "      <td>O O O O O B-fromloc.city_name O B-toloc.city_name I-toloc.city_name O B-airline_name I-airline_name O O B-depart_time.time_relative B-depart_time.time I-depart_time.time O O O O O O O O O O O O O O O</td>\n",
       "    </tr>\n",
       "  </tbody>\n",
       "</table>\n",
       "</div>"
      ],
      "text/plain": [
       "                                                                                                                                                                     query  \\\n",
       "0                                                                                         i want to fly from boston at 838 am and arrive in denver at 1110 in the morning    \n",
       "1                                                                                      what is the arrival time in san francisco for the 755 am flight leaving washington    \n",
       "2                                                                                                                                 cheapest airfare from tacoma to orlando    \n",
       "3                                                                                                      what kind of aircraft is used on a flight from cleveland to dallas    \n",
       "4                                                                                                               what kind of ground transportation is available in denver    \n",
       "5                                                                                                                                          what 's the airport at orlando    \n",
       "6                                                                                                                      which airline serves denver pittsburgh and atlanta    \n",
       "7                                                                                                                           how far is it from orlando airport to orlando    \n",
       "8                                                                                                                                                     what is fare code h    \n",
       "9                                                                                                              how much does the limousine service cost within pittsburgh    \n",
       "10                                                                                               please tell me how many nonstop flights there are from boston to atlanta    \n",
       "11                                                                                                                                        what city is the airport mco in    \n",
       "12                                                                                                                   flight numbers from columbus to minneapolis tomorrow    \n",
       "13                                                                                                                                                how many seats in a 100    \n",
       "14                                                                                  give me the flights and fares on december twenty seventh from indianapolis to orlando    \n",
       "15                                                                                                                show me all meals on flights from atlanta to washington    \n",
       "16                                                                     what are the air restrictions on flights from pittsburgh to atlanta for the airfare of 416 dollars    \n",
       "17                                                                                                                 airline and flight number from columbus to minneapolis    \n",
       "18                                                              what ground transportation is available from the pittsburgh airport to downtown and how much does it cost    \n",
       "19                                                                                                  show me the costs and times for flights from san francisco to atlanta    \n",
       "20                                                                                                                              show me the cheapest fare in the database    \n",
       "21   i want to fly from detroit to st. petersburg on northwest airlines and leave around 9 am tell me what aircraft are used by this flight and tell me the flight number    \n",
       "\n",
       "                        intent  \\\n",
       "0                       flight   \n",
       "1                  flight_time   \n",
       "2                      airfare   \n",
       "3                     aircraft   \n",
       "4               ground_service   \n",
       "5                      airport   \n",
       "6                      airline   \n",
       "7                     distance   \n",
       "8                 abbreviation   \n",
       "9                  ground_fare   \n",
       "10                    quantity   \n",
       "11                        city   \n",
       "12                   flight_no   \n",
       "13                    capacity   \n",
       "14              flight+airfare   \n",
       "15                        meal   \n",
       "16                 restriction   \n",
       "17           airline+flight_no   \n",
       "18  ground_service+ground_fare   \n",
       "19         airfare+flight_time   \n",
       "20                    cheapest   \n",
       "21   aircraft+flight+flight_no   \n",
       "\n",
       "                                                                                                                                                                                                 slot filling  \n",
       "0                                                         O O O O O B-fromloc.city_name O B-depart_time.time I-depart_time.time O O O B-toloc.city_name O B-arrive_time.time O O B-arrive_time.period_of_day   \n",
       "1                                                              O O O B-flight_time I-flight_time O B-fromloc.city_name I-fromloc.city_name O O B-depart_time.time I-depart_time.time O O B-fromloc.city_name   \n",
       "2                                                                                                                                                B-cost_relative O O B-fromloc.city_name O B-toloc.city_name   \n",
       "3                                                                                                                                                O O O O O O O O O O B-fromloc.city_name O B-toloc.city_name   \n",
       "4                                                                                                                                                                                O O O O O O O O B-city_name   \n",
       "5                                                                                                                                                                                      O O O O O B-city_name   \n",
       "6                                                                                                                                        O O O B-fromloc.city_name B-fromloc.city_name O B-fromloc.city_name   \n",
       "7                                                                                                                                O O O O O B-fromloc.airport_name I-fromloc.airport_name O B-toloc.city_name   \n",
       "8                                                                                                                                                                                  O O O O B-fare_basis_code   \n",
       "9                                                                                                                                                                 O O O O B-transport_type O O O B-city_name   \n",
       "10                                                                                                                                   O O O O O B-flight_stop O O O O B-fromloc.city_name O B-toloc.city_name   \n",
       "11                                                                                                                                                                        O O O O O B-fromloc.airport_code O   \n",
       "12                                                                                                                                O O O B-fromloc.city_name O B-toloc.city_name B-depart_date.today_relative   \n",
       "13                                                                                                                                                                                 O O O O O B-aircraft_code   \n",
       "14                                                                        O O O O O O O B-depart_date.month_name B-depart_date.day_number I-depart_date.day_number O B-fromloc.city_name O B-toloc.city_name   \n",
       "15                                                                                                                                                O O O B-meal O O O B-fromloc.city_name O B-toloc.city_name   \n",
       "16                                                                                                               O O O O O O O O B-fromloc.city_name O B-toloc.city_name O O O O B-fare_amount I-fare_amount   \n",
       "17                                                                                                                                                         O O O O O B-fromloc.city_name O B-toloc.city_name   \n",
       "18                                                                                                                               O O O O O O O B-fromloc.airport_name I-fromloc.airport_name O O O O O O O O   \n",
       "19                                                                                                                 O O O O O B-flight_time O O O B-fromloc.city_name I-fromloc.city_name O B-toloc.city_name   \n",
       "20                                                                                                                                                                             O O O B-cost_relative O O O O   \n",
       "21   O O O O O B-fromloc.city_name O B-toloc.city_name I-toloc.city_name O B-airline_name I-airline_name O O B-depart_time.time_relative B-depart_time.time I-depart_time.time O O O O O O O O O O O O O O O   "
      ]
     },
     "execution_count": 9,
     "metadata": {},
     "output_type": "execute_result"
    }
   ],
   "source": [
    "df_small"
   ]
  },
  {
   "cell_type": "code",
   "execution_count": 10,
   "metadata": {},
   "outputs": [],
   "source": [
    "labels = intent_data_label_train"
   ]
  },
  {
   "cell_type": "code",
   "execution_count": 11,
   "metadata": {},
   "outputs": [],
   "source": [
    "import matplotlib.pyplot as plt"
   ]
  },
  {
   "cell_type": "code",
   "execution_count": 12,
   "metadata": {},
   "outputs": [
    {
     "data": {
      "text/plain": [
       "([<matplotlib.axis.XTick at 0x7fd0b06a6bd0>,\n",
       "  <matplotlib.axis.XTick at 0x7fd0e044b710>,\n",
       "  <matplotlib.axis.XTick at 0x7fd0e0435110>,\n",
       "  <matplotlib.axis.XTick at 0x7fd0af0d5510>,\n",
       "  <matplotlib.axis.XTick at 0x7fd0af0e30d0>,\n",
       "  <matplotlib.axis.XTick at 0x7fd0af0e3710>,\n",
       "  <matplotlib.axis.XTick at 0x7fd0af0e3cd0>,\n",
       "  <matplotlib.axis.XTick at 0x7fd0af0e6310>,\n",
       "  <matplotlib.axis.XTick at 0x7fd0af0e6810>,\n",
       "  <matplotlib.axis.XTick at 0x7fd0af0e6d90>,\n",
       "  <matplotlib.axis.XTick at 0x7fd0af0e6750>,\n",
       "  <matplotlib.axis.XTick at 0x7fd0af0e3690>,\n",
       "  <matplotlib.axis.XTick at 0x7fd0af0ea150>,\n",
       "  <matplotlib.axis.XTick at 0x7fd0af0ea910>,\n",
       "  <matplotlib.axis.XTick at 0x7fd0af0eae90>,\n",
       "  <matplotlib.axis.XTick at 0x7fd0af0ed450>,\n",
       "  <matplotlib.axis.XTick at 0x7fd0af0ed9d0>,\n",
       "  <matplotlib.axis.XTick at 0x7fd0af0ed890>,\n",
       "  <matplotlib.axis.XTick at 0x7fd0af0f1510>,\n",
       "  <matplotlib.axis.XTick at 0x7fd0af0f1a90>,\n",
       "  <matplotlib.axis.XTick at 0x7fd0af0f1250>,\n",
       "  <matplotlib.axis.XTick at 0x7fd0af0ed910>],\n",
       " <a list of 22 Text xticklabel objects>)"
      ]
     },
     "execution_count": 12,
     "metadata": {},
     "output_type": "execute_result"
    },
    {
     "data": {
      "image/png": "[encoded data removed]",
      "text/plain": [
       "<Figure size 432x288 with 1 Axes>"
      ]
     },
     "metadata": {
      "needs_background": "light"
     },
     "output_type": "display_data"
    }
   ],
   "source": [
    "plt.hist(labels)\n",
    "plt.xlabel('intent')\n",
    "plt.ylabel('nb samples')\n",
    "plt.title('intent distribution')\n",
    "plt.xticks(np.arange(len(np.unique(labels))))"
   ]
  },
  {
   "cell_type": "code",
   "execution_count": 13,
   "metadata": {},
   "outputs": [],
   "source": [
    "def get_vocab_size(t2i_train, t2i_test, s2i_train, s2i_test):\n",
    "    vocab_in_size = len({**t2i_train, **t2i_test})\n",
    "    vocab_out_size = len({**s2i_train, **s2i_test})\n",
    "    return vocab_in_size, vocab_out_size"
   ]
  },
  {
   "cell_type": "code",
   "execution_count": 14,
   "metadata": {},
   "outputs": [],
   "source": [
    "vocab_in_size, vocab_out_size = get_vocab_size(t2i_train, t2i_test, s2i_train, s2i_test)"
   ]
  },
  {
   "cell_type": "code",
   "execution_count": 15,
   "metadata": {},
   "outputs": [],
   "source": [
    "def max_length(tensor):\n",
    "    return max(len(t) for t in tensor)"
   ]
  },
  {
   "cell_type": "code",
   "execution_count": 16,
   "metadata": {},
   "outputs": [],
   "source": [
    "import tensorflow as tf"
   ]
  },
  {
   "cell_type": "code",
   "execution_count": 17,
   "metadata": {},
   "outputs": [],
   "source": [
    "# Helper function to pad the query tensor and slot (target) tensor to the same length. \n",
    "# Also creates a tensor for teacher forcing.\n",
    "def create_tensors(input_tensor, target_tensor, nb_sample=9999999, max_len=0):\n",
    "    len_input, len_target  = max_length(input_tensor), max_length(target_tensor)\n",
    "    len_input = max(len_input,max_len)\n",
    "    len_target = max(len_target,max_len)\n",
    "    # Padding the input and output tensor to the maximum length\n",
    "    input_data = tf.keras.preprocessing.sequence.pad_sequences(input_tensor, \n",
    "                                                                 maxlen=len_input,\n",
    "                                                                 padding='post')\n",
    "\n",
    "    teacher_data = tf.keras.preprocessing.sequence.pad_sequences(target_tensor, \n",
    "                                                                  maxlen=len_target , \n",
    "                                                                  padding='post')\n",
    "    target_data = [[teacher_data[n][i+1] for i in range(len(teacher_data[n])-1)] for n in range(len(teacher_data))]\n",
    "    target_data = tf.keras.preprocessing.sequence.pad_sequences(target_data, maxlen=len_target, padding=\"post\")\n",
    "    target_data = target_data.reshape((target_data.shape[0], target_data.shape[1], 1))\n",
    "    \n",
    "    nb = len(input_data)\n",
    "    p = np.random.permutation(nb)\n",
    "    input_data = input_data[p]\n",
    "    teacher_data = teacher_data[p]\n",
    "    target_data = target_data[p]\n",
    "    \n",
    "    return input_data[:min(nb_sample, nb)], teacher_data[:min(nb_sample, nb)], target_data[:min(nb_sample, nb)], \\\n",
    "           len_input, len_target \n",
    "    \n"
   ]
  },
  {
   "cell_type": "code",
   "execution_count": 18,
   "metadata": {},
   "outputs": [],
   "source": [
    "input_data_train, teacher_data_train, target_data_train, \\\n",
    "                  len_input_train, len_target_train  = create_tensors(input_tensor_train, target_tensor_train)\n",
    "input_data_test, teacher_data_test, target_data_test, \\\n",
    "                 len_input_test, len_target_test  = create_tensors(input_tensor_test, target_tensor_test, max_len=len_input_train)"
   ]
  },
  {
   "cell_type": "code",
   "execution_count": 19,
   "metadata": {},
   "outputs": [],
   "source": [
    "unique_intent_values = list(in2i_train.values())"
   ]
  },
  {
   "cell_type": "code",
   "execution_count": 20,
   "metadata": {},
   "outputs": [],
   "source": [
    "intent_data_label_cat_train = tf.keras.utils.to_categorical(labels, num_classes=len(unique_intent_values))"
   ]
  },
  {
   "cell_type": "code",
   "execution_count": 21,
   "metadata": {},
   "outputs": [
    {
     "name": "stdout",
     "output_type": "stream",
     "text": [
      "WARNING:tensorflow:From /home/weiteh/miniconda3/envs/datascience/lib/python3.7/site-packages/tensorflow_core/python/keras/initializers.py:119: calling RandomUniform.__init__ (from tensorflow.python.ops.init_ops) with dtype is deprecated and will be removed in a future version.\n",
      "Instructions for updating:\n",
      "Call initializer instance with the dtype argument instead of passing it to the constructor\n",
      "WARNING:tensorflow:From /home/weiteh/miniconda3/envs/datascience/lib/python3.7/site-packages/tensorflow_core/python/ops/resource_variable_ops.py:1630: calling BaseResourceVariable.__init__ (from tensorflow.python.ops.resource_variable_ops) with constraint is deprecated and will be removed in a future version.\n",
      "Instructions for updating:\n",
      "If using Keras pass *_constraint arguments to layers.\n",
      "Model: \"sequential\"\n",
      "_________________________________________________________________\n",
      "Layer (type)                 Output Shape              Param #   \n",
      "=================================================================\n",
      "embedding (Embedding)        (None, 48, 256)           241408    \n",
      "_________________________________________________________________\n",
      "lstm (LSTM)                  (None, 1024)              5246976   \n",
      "_________________________________________________________________\n",
      "dense (Dense)                (None, 26)                26650     \n",
      "=================================================================\n",
      "Total params: 5,515,034\n",
      "Trainable params: 5,515,034\n",
      "Non-trainable params: 0\n",
      "_________________________________________________________________\n"
     ]
    }
   ],
   "source": [
    "import numpy as np\n",
    "BATCH_SIZE = 64\n",
    "units = 1024\n",
    "embedding_dim = 256\n",
    "model_lstm = tf.keras.Sequential()\n",
    "model_lstm.add(tf.keras.layers.Embedding(vocab_in_size, embedding_dim, input_length=len_input_train))\n",
    "model_lstm.add(tf.keras.layers.LSTM(units))\n",
    "model_lstm.add(tf.keras.layers.Dense(len(unique_intent_values), activation='softmax'))\n",
    "model_lstm.compile(loss='categorical_crossentropy', optimizer='adam', metrics=['accuracy'])\n",
    "model_lstm.summary()\n"
   ]
  },
  {
   "cell_type": "code",
   "execution_count": 22,
   "metadata": {},
   "outputs": [
    {
     "name": "stdout",
     "output_type": "stream",
     "text": [
      "WARNING:tensorflow:From /home/weiteh/miniconda3/envs/datascience/lib/python3.7/site-packages/tensorflow_core/python/ops/math_grad.py:1424: where (from tensorflow.python.ops.array_ops) is deprecated and will be removed in a future version.\n",
      "Instructions for updating:\n",
      "Use tf.where in 2.0, which has the same broadcast rule as np.where\n",
      "Train on 4978 samples\n",
      "Epoch 1/10\n",
      "4978/4978 [==============================] - 6s 1ms/sample - loss: 1.2434 - acc: 0.7362\n",
      "Epoch 2/10\n",
      "4978/4978 [==============================] - 5s 1ms/sample - loss: 1.1460 - acc: 0.7364\n",
      "Epoch 3/10\n",
      "4978/4978 [==============================] - 5s 1ms/sample - loss: 1.1437 - acc: 0.7364\n",
      "Epoch 4/10\n",
      "4978/4978 [==============================] - 5s 1ms/sample - loss: 1.1899 - acc: 0.7350\n",
      "Epoch 5/10\n",
      "4978/4978 [==============================] - 5s 1ms/sample - loss: 1.1443 - acc: 0.7364\n",
      "Epoch 6/10\n",
      "4978/4978 [==============================] - 5s 1ms/sample - loss: 1.1416 - acc: 0.7364\n",
      "Epoch 7/10\n",
      "4978/4978 [==============================] - 5s 1ms/sample - loss: 1.1396 - acc: 0.7364\n",
      "Epoch 8/10\n",
      "4978/4978 [==============================] - 5s 1ms/sample - loss: 1.1404 - acc: 0.7364\n",
      "Epoch 9/10\n",
      "4978/4978 [==============================] - 5s 1ms/sample - loss: 1.1384 - acc: 0.7364\n",
      "Epoch 10/10\n",
      "4978/4978 [==============================] - 5s 1ms/sample - loss: 1.1411 - acc: 0.7364\n"
     ]
    }
   ],
   "source": [
    "history_lstm = model_lstm.fit(input_data_train, intent_data_label_cat_train, \n",
    "                              epochs=10,batch_size=BATCH_SIZE)"
   ]
  },
  {
   "cell_type": "code",
   "execution_count": 23,
   "metadata": {},
   "outputs": [],
   "source": [
    "import scikitplot as skplt"
   ]
  },
  {
   "cell_type": "code",
   "execution_count": 34,
   "metadata": {},
   "outputs": [
    {
     "data": {
      "image/png": "[encoded data removed]",
      "text/plain": [
       "<Figure size 432x288 with 1 Axes>"
      ]
     },
     "metadata": {
      "needs_background": "light"
     },
     "output_type": "display_data"
    }
   ],
   "source": [
    "labels[labels==14] = -1\n",
    "labels[labels!=-1] = 0\n",
    "labels[labels==-1] = 1\n",
    "\n",
    "plt.hist(labels)\n",
    "plt.xlabel('intent')\n",
    "plt.ylabel('nb samples')\n",
    "plt.title('intent distribution after collapsing')\n",
    "plt.xticks(np.arange(len(np.unique(labels))));"
   ]
  },
  {
   "cell_type": "code",
   "execution_count": null,
   "metadata": {},
   "outputs": [],
   "source": []
  }
 ],
 "metadata": {
  "kernelspec": {
   "display_name": "Python 3",
   "language": "python",
   "name": "python3"
  },
  "language_info": {
   "codemirror_mode": {
    "name": "ipython",
    "version": 3
   },
   "file_extension": ".py",
   "mimetype": "text/x-python",
   "name": "python",
   "nbconvert_exporter": "python",
   "pygments_lexer": "ipython3",
   "version": "3.7.6"
  }
 },
 "nbformat": 4,
 "nbformat_minor": 4
}
